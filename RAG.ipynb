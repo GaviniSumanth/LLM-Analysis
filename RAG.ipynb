{
 "cells": [
  {
   "cell_type": "code",
   "execution_count": null,
   "metadata": {},
   "outputs": [],
   "source": [
    "from ollama import Client\n",
    "from langchain_ollama import OllamaEmbeddings, OllamaLLM\n",
    "from dotenv import load_dotenv\n",
    "from datasets import load_dataset\n",
    "import os\n",
    "from ragas import evaluate\n",
    "from ragas.run_config import RunConfig\n",
    "from ragas.metrics import (\n",
    "    answer_relevancy,\n",
    "    faithfulness,\n",
    "    context_recall,\n",
    "    context_precision,\n",
    ")"
   ]
  },
  {
   "cell_type": "code",
   "execution_count": null,
   "metadata": {},
   "outputs": [],
   "source": [
    "load_dotenv(dotenv_path=\"./.env\")"
   ]
  },
  {
   "cell_type": "code",
   "execution_count": null,
   "metadata": {},
   "outputs": [],
   "source": [
    "dataset = load_dataset(\n",
    "    \"explodinggradients/amnesty_qa\", \"english_v3\", trust_remote_code=True\n",
    ")\n",
    "eval_dataset = dataset[\"eval\"].select(range(1, 3))"
   ]
  },
  {
   "cell_type": "code",
   "execution_count": null,
   "metadata": {},
   "outputs": [],
   "source": [
    "def download_models(models):\n",
    "    for model in models:\n",
    "        client = Client(host=os.environ[\"OLLAMA_BASE_URL\"])\n",
    "        if model not in [i[\"model\"] for i in client.list()[\"models\"]]:\n",
    "            print(f\"Downloading model: {model}\")\n",
    "            client.pull(model=model)\n",
    "        else:\n",
    "            print(f\"{model} is already downloaded.\")\n",
    "\n",
    "\n",
    "def evaluate_models(models, out_dir):\n",
    "    for model_name in models:\n",
    "        print(f\"Evaluating model: {model_name}\")\n",
    "        model = OllamaLLM(\n",
    "            model=model_name,\n",
    "            verbose=False,\n",
    "            timeout=600,\n",
    "            num_ctx=4096,\n",
    "            disable_streaming=False,\n",
    "        )\n",
    "        embeddings = OllamaEmbeddings(model=model_name)\n",
    "        result = evaluate(\n",
    "            eval_dataset,\n",
    "            metrics=[\n",
    "                context_precision,\n",
    "                faithfulness,\n",
    "                answer_relevancy,\n",
    "                context_recall,\n",
    "            ],\n",
    "            llm=model,\n",
    "            embeddings=embeddings,\n",
    "            run_config=RunConfig(timeout=2000, max_retries=20, max_wait=120),\n",
    "        )\n",
    "        result_df = result.to_pandas()\n",
    "        result_df.to_json(f\"{out_dir}/{model_name.replace(\":\",\"_\")}.json\")"
   ]
  },
  {
   "cell_type": "code",
   "execution_count": null,
   "metadata": {},
   "outputs": [],
   "source": [
    "models = [\n",
    "    \"gemma2:2b\",\n",
    "    \"llama3.2:1b\",\n",
    "    \"phi3:3.8b\",\n",
    "    \"qwen2.5:0.5b\",\n",
    "    \"qwen2.5:1.5b\",\n",
    "]\n",
    "\n",
    "print(\"### PREPARING MODELS...\")\n",
    "download_models(models)\n",
    "\n",
    "print(\"### EVALUATING MODELS...\")\n",
    "evaluation = evaluate_models(models, out_dir=\"./results/ragas\")"
   ]
  }
 ],
 "metadata": {
  "kernelspec": {
   "display_name": ".venv",
   "language": "python",
   "name": "python3"
  },
  "language_info": {
   "codemirror_mode": {
    "name": "ipython",
    "version": 3
   },
   "file_extension": ".py",
   "mimetype": "text/x-python",
   "name": "python",
   "nbconvert_exporter": "python",
   "pygments_lexer": "ipython3",
   "version": "3.12.7"
  }
 },
 "nbformat": 4,
 "nbformat_minor": 2
}
